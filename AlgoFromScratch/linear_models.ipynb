{
  "nbformat": 4,
  "nbformat_minor": 0,
  "metadata": {
    "colab": {
      "name": "linear_models.ipynb",
      "version": "0.3.2",
      "provenance": [],
      "collapsed_sections": []
    },
    "kernelspec": {
      "name": "python3",
      "display_name": "Python 3"
    }
  },
  "cells": [
    {
      "metadata": {
        "id": "wPr050aHJz9X",
        "colab_type": "code",
        "colab": {}
      },
      "cell_type": "code",
      "source": [
        "import numpy as np\n",
        "import pandas as pd\n",
        "from sklearn import datasets"
      ],
      "execution_count": 0,
      "outputs": []
    },
    {
      "metadata": {
        "id": "2IzLE-26H2nd",
        "colab_type": "code",
        "colab": {}
      },
      "cell_type": "code",
      "source": [
        "class linear_regressor(object):\n",
        "    \n",
        "    def __init__(self, params):\n",
        "        self._params = params \n",
        "        self._eta = self._params['eta']\n",
        "        self._iterations = self._params['iterations']\n",
        "        \n",
        "    def gradient_descent(self, x, y, eta, theta):\n",
        "        \n",
        "        m = len(x)\n",
        "        \n",
        "        gradients = (2 / m) * x.T.dot(x.dot(theta) - y)\n",
        "        theta -= eta * gradients \n",
        "        \n",
        "        return theta \n",
        "    \n",
        "    def train(self, x_trn, y_trn):\n",
        "        \n",
        "        sample_size, feature_size = x_trn.shape\n",
        "        \n",
        "        theta = np.zeros((1, feature_size)).T\n",
        "        \n",
        "        for i in range(self._iterations):\n",
        "            theta = self.gradient_descent(x_trn, y_trn, self._eta, theta)\n",
        "            \n",
        "        return theta"
      ],
      "execution_count": 0,
      "outputs": []
    },
    {
      "metadata": {
        "id": "cug2LkUFQAqI",
        "colab_type": "code",
        "colab": {}
      },
      "cell_type": "code",
      "source": [
        "class ridge_regressor(object):\n",
        "    \n",
        "    def __init__(self, params):\n",
        "        self._params = params \n",
        "        self._eta = self._params['eta']\n",
        "        self._alpha = self._params['alpha']\n",
        "        self._iterations = self._params['iterations']\n",
        "        \n",
        "    def gradient_descent(self, x, y, eta, alpha, theta):\n",
        "        \n",
        "        m = len(x)\n",
        "        \n",
        "        reg_gradients = theta\n",
        "        gradients = (2 / m) * x.T.dot(x.dot(theta) - y) + alpha * reg_gradients\n",
        "        theta -= eta * gradients \n",
        "        \n",
        "        return theta \n",
        "    \n",
        "    def train(self, x_trn, y_trn):\n",
        "        \n",
        "        sample_size, feature_size = x_trn.shape\n",
        "        \n",
        "        theta = np.zeros((1, feature_size)).T\n",
        "        \n",
        "        for i in range(self._iterations):\n",
        "            theta = self.gradient_descent(x_trn, y_trn, self._eta, self._alpha, theta)\n",
        "            \n",
        "        return theta"
      ],
      "execution_count": 0,
      "outputs": []
    },
    {
      "metadata": {
        "id": "ZC74RqkvQulp",
        "colab_type": "code",
        "colab": {}
      },
      "cell_type": "code",
      "source": [
        "class lasso_regressor(object):\n",
        "    \n",
        "    def __init__(self, params):\n",
        "        self._params = params \n",
        "        self._eta = self._params['eta']\n",
        "        self._alpha = self._params['alpha']\n",
        "        self._iterations = self._params['iterations']\n",
        "        \n",
        "    def gradient_descent(self, x, y, eta, alpha, theta):\n",
        "        \n",
        "        m = len(x)\n",
        "        \n",
        "        reg_gradients = np.array([1 if i > 0 else -1 if i < 0 else 0 for i in theta]).reshape(len(theta), 1)\n",
        "        gradients = (2 / m) * x.T.dot(x.dot(theta) - y) + alpha * reg_gradients\n",
        "        theta -= eta * gradients \n",
        "        \n",
        "        return theta \n",
        "    \n",
        "    def train(self, x_trn, y_trn):\n",
        "        \n",
        "        sample_size, feature_size = x_trn.shape\n",
        "        \n",
        "        theta = np.zeros((1, feature_size)).T\n",
        "        \n",
        "        for i in range(self._iterations):\n",
        "            theta = self.gradient_descent(x_trn, y_trn, self._eta, self._alpha, theta)\n",
        "            \n",
        "        return theta"
      ],
      "execution_count": 0,
      "outputs": []
    },
    {
      "metadata": {
        "id": "grJzZdseH6gh",
        "colab_type": "code",
        "colab": {}
      },
      "cell_type": "code",
      "source": [
        "lr = linear_regressor({'iterations':100, 'eta':0.01})\n",
        "ridge = ridge_regressor({'iterations':100, 'eta':0.01, 'alpha':0.5})\n",
        "lasso = lasso_regressor({'iterations':100, 'eta':0.01, 'alpha':0.5})"
      ],
      "execution_count": 0,
      "outputs": []
    },
    {
      "metadata": {
        "id": "O_fgfyUFH6d1",
        "colab_type": "code",
        "colab": {}
      },
      "cell_type": "code",
      "source": [
        "X = np.random.randn(100, 3)\n",
        "Y = np.random.randn(100, 1)"
      ],
      "execution_count": 0,
      "outputs": []
    },
    {
      "metadata": {
        "id": "FjvTuL8WH6bU",
        "colab_type": "code",
        "outputId": "cedf72b8-c440-4604-9823-7073aa04146b",
        "colab": {
          "base_uri": "https://localhost:8080/",
          "height": 68
        }
      },
      "cell_type": "code",
      "source": [
        "lr.train(X, Y)"
      ],
      "execution_count": 0,
      "outputs": [
        {
          "output_type": "execute_result",
          "data": {
            "text/plain": [
              "array([[ 0.08023783],\n",
              "       [-0.00207789],\n",
              "       [ 0.0957701 ]])"
            ]
          },
          "metadata": {
            "tags": []
          },
          "execution_count": 127
        }
      ]
    },
    {
      "metadata": {
        "id": "NpluGbIZH6Tx",
        "colab_type": "code",
        "outputId": "ac7e1d54-e315-4bbb-9f26-dd257bed297d",
        "colab": {
          "base_uri": "https://localhost:8080/",
          "height": 68
        }
      },
      "cell_type": "code",
      "source": [
        "ridge.train(X, Y)"
      ],
      "execution_count": 0,
      "outputs": [
        {
          "output_type": "execute_result",
          "data": {
            "text/plain": [
              "array([[ 0.06718784],\n",
              "       [-0.00214848],\n",
              "       [ 0.08147307]])"
            ]
          },
          "metadata": {
            "tags": []
          },
          "execution_count": 128
        }
      ]
    },
    {
      "metadata": {
        "id": "oYzYgGM9US4_",
        "colab_type": "code",
        "outputId": "dd6caab2-8dae-4ceb-f07a-2773285379fb",
        "colab": {
          "base_uri": "https://localhost:8080/",
          "height": 68
        }
      },
      "cell_type": "code",
      "source": [
        "lasso.train(X, Y)"
      ],
      "execution_count": 0,
      "outputs": [
        {
          "output_type": "execute_result",
          "data": {
            "text/plain": [
              "array([[0.00195513],\n",
              "       [0.0009653 ],\n",
              "       [0.00691431]])"
            ]
          },
          "metadata": {
            "tags": []
          },
          "execution_count": 129
        }
      ]
    },
    {
      "metadata": {
        "id": "LOT9W0zpTliK",
        "colab_type": "code",
        "colab": {}
      },
      "cell_type": "code",
      "source": [
        "class logistic_regressor(object):\n",
        "    \n",
        "    def __init__(self, params):\n",
        "        self._params = params \n",
        "        self._eta = self._params['eta']\n",
        "        self._iterations = self._params['iterations']\n",
        "        \n",
        "    @staticmethod    \n",
        "    def sigmoid(x):\n",
        "        return 1 / (1 + np.exp(-x))        \n",
        "        \n",
        "    def gradient_descent(self, x, y, eta, theta):\n",
        "        \n",
        "        m = len(x)\n",
        "        \n",
        "        z = sigmoid(np.dot(x, theta))\n",
        "        gradients = np.dot(x.T, z - y) / m\n",
        "        theta -= eta * gradients\n",
        "        \n",
        "        return theta \n",
        "    \n",
        "    def train(self, x_trn, y_trn):\n",
        "        \n",
        "        sample_size, feature_size = x_trn.shape\n",
        "        \n",
        "        theta = np.zeros((1, feature_size)).T\n",
        "        \n",
        "        for i in range(self._iterations):\n",
        "            theta = self.gradient_descent(x_trn, y_trn, self._eta, theta)\n",
        "            \n",
        "        return theta"
      ],
      "execution_count": 0,
      "outputs": []
    },
    {
      "metadata": {
        "id": "s20loXI2H6MB",
        "colab_type": "code",
        "colab": {}
      },
      "cell_type": "code",
      "source": [
        "log_reg = logistic_regressor({'iterations':100, 'eta':0.01})"
      ],
      "execution_count": 0,
      "outputs": []
    },
    {
      "metadata": {
        "id": "WeXJUm7fH6JZ",
        "colab_type": "code",
        "colab": {}
      },
      "cell_type": "code",
      "source": [
        "iris = datasets.load_iris()\n",
        "x = iris.data[:, :2]\n",
        "y = ((iris.target != 0) * 1)\n",
        "y = y.reshape(len(y), 1)"
      ],
      "execution_count": 0,
      "outputs": []
    },
    {
      "metadata": {
        "id": "yYK_kIvVdRTT",
        "colab_type": "code",
        "outputId": "9e93a9d7-8520-4907-95ee-321fe259ecee",
        "colab": {
          "base_uri": "https://localhost:8080/",
          "height": 51
        }
      },
      "cell_type": "code",
      "source": [
        "log_reg.train(x, y)"
      ],
      "execution_count": 43,
      "outputs": [
        {
          "output_type": "execute_result",
          "data": {
            "text/plain": [
              "array([[ 0.21408372],\n",
              "       [-0.14248542]])"
            ]
          },
          "metadata": {
            "tags": []
          },
          "execution_count": 43
        }
      ]
    }
  ]
}